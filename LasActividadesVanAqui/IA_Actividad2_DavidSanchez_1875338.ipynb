{
  "nbformat": 4,
  "nbformat_minor": 0,
  "metadata": {
    "colab": {
      "name": "Untitled0.ipynb",
      "provenance": [],
      "collapsed_sections": [],
      "toc_visible": true
    },
    "kernelspec": {
      "name": "python3",
      "display_name": "Python 3"
    },
    "language_info": {
      "name": "python"
    }
  },
  "cells": [
    {
      "cell_type": "code",
      "execution_count": null,
      "metadata": {
        "colab": {
          "base_uri": "https://localhost:8080/"
        },
        "id": "blCHFwkYhxBA",
        "outputId": "249cfa01-6bb1-4582-af5e-33e8fbad04db"
      },
      "outputs": [
        {
          "output_type": "stream",
          "name": "stdout",
          "text": [
            "Ingrese su nombre por favor\n",
            "olo\n",
            "Hola olo\n"
          ]
        }
      ],
      "source": [
        "#A2-Ejercicios Básicos en Python David Angel Sanchez Martinez 1875338 Jueves N1-N3\n",
        "\n",
        "x = \"Ana\" and \"ana\"                      #declare las variables de los nombres prohibidos\n",
        "y = \"Pedro\" and \"pedro\"\n",
        "z = \"Juan\" and \"juan\"\n",
        "\n",
        "print(\"Ingrese su nombre por favor\")     #aqui ingresan su nombre\n",
        "nombre = input()\n",
        "\n",
        "if (nombre == x):\n",
        "  print(\"Lo siento, nombre excluido\")      #use un if para cada variable de los nombres no permitidos\n",
        "elif (nombre == y):\n",
        "  print(\"Lo siento, nombre excluido\")\n",
        "elif(nombre == z):\n",
        "  print(\"Lo siento, nombre excluido\")\n",
        "else:\n",
        "  print(\"Hola \"+nombre)\n"
      ]
    },
    {
      "cell_type": "code",
      "source": [
        "\n",
        "list1 = [0, 1, 2, 3, 4]      #aqui esta la serie\n",
        "last = list1.pop()\n",
        "\n",
        "print(last)                 #aqui te imprime el ultimo digito\n",
        "print(list1)                #aqui imprime la lista\n",
        " \n",
        "list2 = [0, 1, 2, 3, 4]                \n",
        "newlist = list(reversed(list2))        #aqui invierte la lista\n",
        "print(newlist)"
      ],
      "metadata": {
        "colab": {
          "base_uri": "https://localhost:8080/"
        },
        "id": "HX9Wy6dX8jJm",
        "outputId": "ac41eb91-710d-40f4-cef7-04f80468e761"
      },
      "execution_count": null,
      "outputs": [
        {
          "output_type": "stream",
          "name": "stdout",
          "text": [
            "4\n",
            "[0, 1, 2, 3]\n",
            "[4, 3, 2, 1, 0]\n"
          ]
        }
      ]
    },
    {
      "cell_type": "code",
      "source": [
        "txt = (\"*******\\n*Hola *\\n*a    *\\n*todos*\\n*esto *\\n*es   *\\n*un   *\\n*marco*\\n*******\")             #aqui esta el texto usando \\n para saltar de linea \n",
        "print(txt)\n",
        "\n"
      ],
      "metadata": {
        "colab": {
          "base_uri": "https://localhost:8080/"
        },
        "id": "D_u5kywfZ92a",
        "outputId": "c68c93c8-b53e-4f10-a951-631a95f0ae2b"
      },
      "execution_count": null,
      "outputs": [
        {
          "output_type": "stream",
          "name": "stdout",
          "text": [
            "*******\n",
            "*Hola *\n",
            "*a    *\n",
            "*todos*\n",
            "*esto *\n",
            "*es   *\n",
            "*un   *\n",
            "*marco*\n",
            "*******\n"
          ]
        }
      ]
    }
  ]
}